{
 "cells": [
  {
   "cell_type": "markdown",
   "metadata": {},
   "source": [
    "# Pull Trade Data from the WB WITS API Using Python\n",
    "![alt text](./img/trade-network.png \"Title\")\n",
    "\n",
    "Trade data serves as a critical resource for understanding global economic trends, uncovering market opportunities, and informing policy decisions. However, efficiently accessing and analyzing vast amounts of trade data can be a daunting task. In this comprehensive guide, we will explore how Python can empower us to effortlessly extract trade data from the World Bank World Integrated Trade Solution (WB WITS) SDMX (Statistical Data and Metadata Exchange) Application Programming Interface (API).\n",
    "\n",
    "In this article, we will explore how to access and utilize trade data from the WB WITS SDMX API using Python. This powerful combination of data retrieval and programming allows us to tap into a vast repository of trade data and leverage Python's analytical capabilities to extract meaningful insights."
   ]
  },
  {
   "cell_type": "markdown",
   "metadata": {},
   "source": [
    "# Overview of WB WITS API\n",
    "The [WB WITS API](https://wits.worldbank.org/witsapiintro.aspx?lang=en), is a powerful tool that provides access to an extensive range of trade data from countries around the world. It is specifically designed to facilitate trade analysis, policy formulation, and economic research. By leveraging the SDMX version of the WB WITS API, users can programmatically retrieve comprehensive and up-to-date information on global trade flows, tariffs, and trade-related indicators.\n",
    "\n",
    "The structure of API data call is below:\n",
    "![alt text](./img/api_call.png \"Title\")\n",
    "\n",
    "To pull data from SDMX WB WITS API, you need at least three parameters :\n",
    "1. Dataset ID parameter\n",
    "2. Query Parameter\n",
    "3. Period Parameter\n",
    "\n",
    "Let me guide you on how we can do it in Python."
   ]
  },
  {
   "cell_type": "markdown",
   "metadata": {},
   "source": [
    "# Prerequisites\n",
    "* Make sure you have installed Python in your machine and Jupyter Notebook.\n",
    "* Make sure you have installed these Python libraries: `requests `, `pandas `, `numpy `, `xmltodict`"
   ]
  },
  {
   "cell_type": "markdown",
   "metadata": {},
   "source": [
    "## Import required libraries"
   ]
  },
  {
   "cell_type": "code",
   "execution_count": 4,
   "metadata": {},
   "outputs": [
    {
     "name": "stderr",
     "output_type": "stream",
     "text": [
      "/Users/amryanto/Library/Python/3.9/lib/python/site-packages/urllib3/__init__.py:34: NotOpenSSLWarning: urllib3 v2.0 only supports OpenSSL 1.1.1+, currently the 'ssl' module is compiled with 'LibreSSL 2.8.3'. See: https://github.com/urllib3/urllib3/issues/3020\n",
      "  warnings.warn(\n"
     ]
    }
   ],
   "source": [
    "import requests\n",
    "import pandas as pd\n",
    "import numpy as np\n",
    "import xmltodict"
   ]
  },
  {
   "cell_type": "markdown",
   "metadata": {},
   "source": [
    "## Specify the SDMX REST API endpoint"
   ]
  },
  {
   "cell_type": "code",
   "execution_count": 5,
   "metadata": {},
   "outputs": [],
   "source": [
    "endpoint = \"http://wits.worldbank.org/API/V1/SDMX/V21/rest\""
   ]
  },
  {
   "cell_type": "markdown",
   "metadata": {},
   "source": [
    "# Dataset ID Parameter\n",
    "After specified the endpoint, now we need to define what dataset (or dataflow in SDMX) that we want to pull. A **dataflow** is a structure on which data is collected and disseminated, referenced to a DSD (data structure definition, let's short it to \"**datastructure**\" throughout the article) which is used as the underlying template to which the data must conform.\n",
    "\n",
    "In WB WITS API, there are four dataflows available which can be accessed by:"
   ]
  },
  {
   "cell_type": "code",
   "execution_count": 6,
   "metadata": {},
   "outputs": [
    {
     "data": {
      "text/html": [
       "<div>\n",
       "<style scoped>\n",
       "    .dataframe tbody tr th:only-of-type {\n",
       "        vertical-align: middle;\n",
       "    }\n",
       "\n",
       "    .dataframe tbody tr th {\n",
       "        vertical-align: top;\n",
       "    }\n",
       "\n",
       "    .dataframe thead th {\n",
       "        text-align: right;\n",
       "    }\n",
       "</style>\n",
       "<table border=\"1\" class=\"dataframe\">\n",
       "  <thead>\n",
       "    <tr style=\"text-align: right;\">\n",
       "      <th></th>\n",
       "      <th>id</th>\n",
       "      <th>datastructure</th>\n",
       "      <th>description</th>\n",
       "    </tr>\n",
       "  </thead>\n",
       "  <tbody>\n",
       "    <tr>\n",
       "      <th>0</th>\n",
       "      <td>DF_WITS_Tariff_TRAINS</td>\n",
       "      <td>TARIFF_TRAINS</td>\n",
       "      <td>Data flow to access WITS - UNCTAD TRAINS Prefe...</td>\n",
       "    </tr>\n",
       "    <tr>\n",
       "      <th>1</th>\n",
       "      <td>DF_WITS_TradeStats_Development</td>\n",
       "      <td>TRADESTATS</td>\n",
       "      <td>Development indicators such as GDP, GNI per ca...</td>\n",
       "    </tr>\n",
       "    <tr>\n",
       "      <th>2</th>\n",
       "      <td>DF_WITS_TradeStats_Tariff</td>\n",
       "      <td>TRADESTATS</td>\n",
       "      <td>Tariff information like number of trade agreem...</td>\n",
       "    </tr>\n",
       "    <tr>\n",
       "      <th>3</th>\n",
       "      <td>DF_WITS_TradeStats_Trade</td>\n",
       "      <td>TRADESTATS</td>\n",
       "      <td>Trade data such as total exports, number or pr...</td>\n",
       "    </tr>\n",
       "  </tbody>\n",
       "</table>\n",
       "</div>"
      ],
      "text/plain": [
       "                               id  datastructure  \\\n",
       "0           DF_WITS_Tariff_TRAINS  TARIFF_TRAINS   \n",
       "1  DF_WITS_TradeStats_Development     TRADESTATS   \n",
       "2       DF_WITS_TradeStats_Tariff     TRADESTATS   \n",
       "3        DF_WITS_TradeStats_Trade     TRADESTATS   \n",
       "\n",
       "                                         description  \n",
       "0  Data flow to access WITS - UNCTAD TRAINS Prefe...  \n",
       "1  Development indicators such as GDP, GNI per ca...  \n",
       "2  Tariff information like number of trade agreem...  \n",
       "3  Trade data such as total exports, number or pr...  "
      ]
     },
     "metadata": {},
     "output_type": "display_data"
    }
   ],
   "source": [
    "path = '/'.join([endpoint, 'dataflow'])\n",
    "response = requests.get(path)\n",
    "if response.status_code == 200:\n",
    "\n",
    "   # Convert XML Response to Dictionary Object\n",
    "   response_dict = xmltodict.parse(response.text)['Structure']\n",
    "\n",
    "   # Drill through specific keys to get the list of dataflows in the dictionary and then normalize it to pandas dataframe.\n",
    "   dataflows = pd.json_normalize(response_dict['Structures']['Dataflows']['Dataflow'])\n",
    "\n",
    "   # Only get English version of dataflows' name and description\n",
    "   dataflows = dataflows[(dataflows['Name.@xml:lang'] == 'en') &\n",
    "                           (dataflows['Description.@xml:lang'] == 'en')\n",
    "                       ]\n",
    "   dataflows = dataflows[['@id', '@agencyID', '@version', '@isFinal', 'Description.#text', 'Structure.Ref.@id']]\n",
    "\n",
    "   # Rename the dataflow column\n",
    "   dataflows = dataflows.rename(columns={\n",
    "       '@id': 'id',\n",
    "       '@agencyID': 'agencyID',\n",
    "       '@version': 'version',\n",
    "       '@isFinal':'isFinal',\n",
    "       'Description.#text': 'description',\n",
    "       'Structure.Ref.@id': 'datastructure'\n",
    "   })\n",
    "\n",
    "display(dataflows[['id', 'datastructure', 'description']])"
   ]
  },
  {
   "cell_type": "markdown",
   "metadata": {},
   "source": [
    "Above you can see WB WITS API available dataflows with its respective datastructure and description. For trade data we will use `DF_WITS_TradeStats_Trade` for dataflow ID and and `TRADESTATS` for the datastructure ID."
   ]
  },
  {
   "cell_type": "code",
   "execution_count": 7,
   "metadata": {},
   "outputs": [],
   "source": [
    "dataset_id = 'DF_WITS_TradeStats_Trade'\n",
    "datastructure_id = 'TRADESTATS'"
   ]
  },
  {
   "cell_type": "markdown",
   "metadata": {},
   "source": [
    "# Query Parameter\n",
    "In order to avoid server overload, pulling for the entire database is not possible in one request. So, we have to be clear on what exactly data we need in our query. The query is a **series of keys delimited by period, which determine the specific data that want to be retrieved**.\n",
    "\n",
    "To start building a query, we need to know the dimensions of the DSD are. Here's how to do it in Python:"
   ]
  },
  {
   "cell_type": "code",
   "execution_count": 8,
   "metadata": {},
   "outputs": [
    {
     "data": {
      "text/html": [
       "<div>\n",
       "<style scoped>\n",
       "    .dataframe tbody tr th:only-of-type {\n",
       "        vertical-align: middle;\n",
       "    }\n",
       "\n",
       "    .dataframe tbody tr th {\n",
       "        vertical-align: top;\n",
       "    }\n",
       "\n",
       "    .dataframe thead th {\n",
       "        text-align: right;\n",
       "    }\n",
       "</style>\n",
       "<table border=\"1\" class=\"dataframe\">\n",
       "  <thead>\n",
       "    <tr style=\"text-align: right;\">\n",
       "      <th></th>\n",
       "      <th>id</th>\n",
       "      <th>position</th>\n",
       "      <th>conceptscheme</th>\n",
       "      <th>codelist</th>\n",
       "      <th>component</th>\n",
       "    </tr>\n",
       "  </thead>\n",
       "  <tbody>\n",
       "    <tr>\n",
       "      <th>0</th>\n",
       "      <td>FREQ</td>\n",
       "      <td>1</td>\n",
       "      <td>TRADESTATS_CONCEPTS</td>\n",
       "      <td>CL_TS_FREQ_WITS</td>\n",
       "      <td>Dimension</td>\n",
       "    </tr>\n",
       "    <tr>\n",
       "      <th>1</th>\n",
       "      <td>REPORTER</td>\n",
       "      <td>2</td>\n",
       "      <td>TRADESTATS_CONCEPTS</td>\n",
       "      <td>CL_TS_COUNTRY_WITS</td>\n",
       "      <td>Dimension</td>\n",
       "    </tr>\n",
       "    <tr>\n",
       "      <th>2</th>\n",
       "      <td>PARTNER</td>\n",
       "      <td>3</td>\n",
       "      <td>TRADESTATS_CONCEPTS</td>\n",
       "      <td>CL_TS_COUNTRY_WITS</td>\n",
       "      <td>Dimension</td>\n",
       "    </tr>\n",
       "    <tr>\n",
       "      <th>3</th>\n",
       "      <td>PRODUCTCODE</td>\n",
       "      <td>5</td>\n",
       "      <td>TRADESTATS_CONCEPTS</td>\n",
       "      <td>CL_TS_PRODUCTCODE_WITS</td>\n",
       "      <td>Dimension</td>\n",
       "    </tr>\n",
       "    <tr>\n",
       "      <th>4</th>\n",
       "      <td>INDICATOR</td>\n",
       "      <td>6</td>\n",
       "      <td>TRADESTATS_CONCEPTS</td>\n",
       "      <td>CL_TS_INDICATOR_WITS</td>\n",
       "      <td>Dimension</td>\n",
       "    </tr>\n",
       "  </tbody>\n",
       "</table>\n",
       "</div>"
      ],
      "text/plain": [
       "            id position        conceptscheme                codelist  \\\n",
       "0         FREQ        1  TRADESTATS_CONCEPTS         CL_TS_FREQ_WITS   \n",
       "1     REPORTER        2  TRADESTATS_CONCEPTS      CL_TS_COUNTRY_WITS   \n",
       "2      PARTNER        3  TRADESTATS_CONCEPTS      CL_TS_COUNTRY_WITS   \n",
       "3  PRODUCTCODE        5  TRADESTATS_CONCEPTS  CL_TS_PRODUCTCODE_WITS   \n",
       "4    INDICATOR        6  TRADESTATS_CONCEPTS    CL_TS_INDICATOR_WITS   \n",
       "\n",
       "   component  \n",
       "0  Dimension  \n",
       "1  Dimension  \n",
       "2  Dimension  \n",
       "3  Dimension  \n",
       "4  Dimension  "
      ]
     },
     "metadata": {},
     "output_type": "display_data"
    }
   ],
   "source": [
    "path = '/'.join([endpoint, 'datastructure/WBG_WITS', datastructure_id])\n",
    "\n",
    "# Making API Call\n",
    "response = requests.get(path)\n",
    "\n",
    "if response.status_code == 200:\n",
    "   response_dict = xmltodict.parse(response.text)['Structure']\n",
    "   datastructure = response_dict['Structures']['DataStructures']['DataStructure']\n",
    "   datastructure_meta = {\n",
    "           'id': datastructure['@id'],\n",
    "           'agencyID': datastructure['@agencyID'],\n",
    "           'version': datastructure['@version'],\n",
    "           'isFinal': datastructure['@isFinal'],\n",
    "           'name': datastructure['Name']['#text']\n",
    "       }\n",
    "  \n",
    "   dimensions = pd.json_normalize(datastructure['DataStructureComponents']['DimensionList']['Dimension'])[\n",
    "       ['@id', '@position', 'ConceptIdentity.Ref.@maintainableParentID', 'LocalRepresentation.Enumeration.Ref.@id']\n",
    "   ]\n",
    "   dimensions = dimensions.rename(columns={\n",
    "       '@id': 'id',\n",
    "       '@position':'position',\n",
    "       'ConceptIdentity.Ref.@maintainableParentID': 'conceptscheme',\n",
    "       'LocalRepresentation.Enumeration.Ref.@id': 'codelist'\n",
    "   })\n",
    "   dimensions['component'] = 'Dimension'\n",
    "display(dimensions)"
   ]
  },
  {
   "cell_type": "markdown",
   "metadata": {},
   "source": [
    "Above you can see that `TRADESTATS` DSD has five dimensions which are `FREQ`, `REPORTER`, `PARTNER`, `PRODUCTCODE`, and `INDICATOR`.\n",
    "\n",
    "Next, we need to specify the value for each dimension in order to have the exact data that we need using a set of values that have been defined in the respective codelist.\n",
    "\n",
    "Lets define our query dictionary first to get the values from the codelist:"
   ]
  },
  {
   "cell_type": "code",
   "execution_count": 9,
   "metadata": {},
   "outputs": [],
   "source": [
    "dimension_list = dimensions['id'].values.tolist()\n",
    "query = {k: None for k in dimension_list}\n",
    "\n",
    "def getCodelist(codelist):\n",
    "    codelist_meta = {\n",
    "                'id':codelist['@id'],\n",
    "                'agencyID': codelist['@agencyID'],\n",
    "                'version': codelist['@version'],\n",
    "                'isFinal': codelist['@isFinal'],\n",
    "                'name': codelist['Name']['#text']\n",
    "            }\n",
    "    codelist_codes = codelist['Code']\n",
    "\n",
    "    if type(codelist_codes) == list:\n",
    "        codelist_code = [{'id': code['@id'],\n",
    "                        'name': code['Name']['#text'],\n",
    "                        'language': code['Name']['@xml:lang']} for code in codelist_codes]\n",
    "    else:\n",
    "        codelist_code = [{'id': codelist_codes['@id'],\n",
    "        'name': codelist_codes['Name']['#text'],\n",
    "        'language': codelist_codes['Name']['@xml:lang']}]\n",
    "\n",
    "    return {\n",
    "        'header': pd.DataFrame([codelist_meta]),\n",
    "        'codes': pd.DataFrame(codelist_code)\n",
    "    }"
   ]
  },
  {
   "cell_type": "markdown",
   "metadata": {},
   "source": [
    "To start, let's find what are value available for `FREQ` dimensions from `CL_TS_FREQ_WITS` codelist:\n",
    "## CL_TS_FREQ_WITS"
   ]
  },
  {
   "cell_type": "code",
   "execution_count": 10,
   "metadata": {},
   "outputs": [
    {
     "data": {
      "text/html": [
       "<div>\n",
       "<style scoped>\n",
       "    .dataframe tbody tr th:only-of-type {\n",
       "        vertical-align: middle;\n",
       "    }\n",
       "\n",
       "    .dataframe tbody tr th {\n",
       "        vertical-align: top;\n",
       "    }\n",
       "\n",
       "    .dataframe thead th {\n",
       "        text-align: right;\n",
       "    }\n",
       "</style>\n",
       "<table border=\"1\" class=\"dataframe\">\n",
       "  <thead>\n",
       "    <tr style=\"text-align: right;\">\n",
       "      <th></th>\n",
       "      <th>id</th>\n",
       "      <th>name</th>\n",
       "      <th>language</th>\n",
       "    </tr>\n",
       "  </thead>\n",
       "  <tbody>\n",
       "    <tr>\n",
       "      <th>0</th>\n",
       "      <td>A</td>\n",
       "      <td>Annual</td>\n",
       "      <td>en</td>\n",
       "    </tr>\n",
       "  </tbody>\n",
       "</table>\n",
       "</div>"
      ],
      "text/plain": [
       "  id    name language\n",
       "0  A  Annual       en"
      ]
     },
     "metadata": {},
     "output_type": "display_data"
    }
   ],
   "source": [
    "codelist = 'CL_TS_FREQ_WITS'\n",
    "path = '/'.join([endpoint, 'codelist/WBG_WITS', codelist])\n",
    "\n",
    "response = requests.get(path)\n",
    "if response.status_code == 200:\n",
    "   response_dict = xmltodict.parse(response.text)['Structure']\n",
    "   codelists = response_dict['Structures']['Codelists']['Codelist']\n",
    "   codelist = getCodelist(codelists)['codes']\n",
    "\n",
    "display(codelist)"
   ]
  },
  {
   "cell_type": "markdown",
   "metadata": {},
   "source": [
    "As you can see above in the dataframe, code `A` corresponds to \"Annual\" since WB WITS data only available in annual frequency."
   ]
  },
  {
   "cell_type": "code",
   "execution_count": 11,
   "metadata": {},
   "outputs": [],
   "source": [
    "query['FREQ'] = 'A'"
   ]
  },
  {
   "cell_type": "markdown",
   "metadata": {},
   "source": [
    "Let's examine other codelists:\n",
    "# CL_TS_COUNTRY_WITS\n",
    "Let's find codes for the countries we want to retrieve for `REPORTER` and `PARTNER` dimensions:"
   ]
  },
  {
   "cell_type": "code",
   "execution_count": 12,
   "metadata": {},
   "outputs": [
    {
     "data": {
      "text/html": [
       "<div>\n",
       "<style scoped>\n",
       "    .dataframe tbody tr th:only-of-type {\n",
       "        vertical-align: middle;\n",
       "    }\n",
       "\n",
       "    .dataframe tbody tr th {\n",
       "        vertical-align: top;\n",
       "    }\n",
       "\n",
       "    .dataframe thead th {\n",
       "        text-align: right;\n",
       "    }\n",
       "</style>\n",
       "<table border=\"1\" class=\"dataframe\">\n",
       "  <thead>\n",
       "    <tr style=\"text-align: right;\">\n",
       "      <th></th>\n",
       "      <th>id</th>\n",
       "      <th>name</th>\n",
       "      <th>language</th>\n",
       "    </tr>\n",
       "  </thead>\n",
       "  <tbody>\n",
       "    <tr>\n",
       "      <th>110</th>\n",
       "      <td>IDN</td>\n",
       "      <td>Indonesia</td>\n",
       "      <td>en</td>\n",
       "    </tr>\n",
       "    <tr>\n",
       "      <th>163</th>\n",
       "      <td>MYS</td>\n",
       "      <td>Malaysia</td>\n",
       "      <td>en</td>\n",
       "    </tr>\n",
       "    <tr>\n",
       "      <th>205</th>\n",
       "      <td>SGP</td>\n",
       "      <td>Singapore</td>\n",
       "      <td>en</td>\n",
       "    </tr>\n",
       "  </tbody>\n",
       "</table>\n",
       "</div>"
      ],
      "text/plain": [
       "      id       name language\n",
       "110  IDN  Indonesia       en\n",
       "163  MYS   Malaysia       en\n",
       "205  SGP  Singapore       en"
      ]
     },
     "metadata": {},
     "output_type": "display_data"
    }
   ],
   "source": [
    "codelist = 'CL_TS_COUNTRY_WITS'\n",
    "path = '/'.join([endpoint, 'codelist/WBG_WITS', codelist])\n",
    "\n",
    "response = requests.get(path)\n",
    "if response.status_code == 200:\n",
    "   response_dict = xmltodict.parse(response.text)['Structure']\n",
    "   codelists = response_dict['Structures']['Codelists']['Codelist']\n",
    "   codelist = getCodelist(codelists)['codes']\n",
    "\n",
    "filtered_codes = codelist[codelist['name'].isin(['Singapore', 'Malaysia', 'Indonesia'])]\n",
    "display(filtered_codes)"
   ]
  },
  {
   "cell_type": "markdown",
   "metadata": {},
   "source": [
    "Based on above we can set `REPORTER` to `'IDN'` and `'SGP+MYS'` for `PARTNER`. We put `+` to indicate that we want to retrieve data for both Singapore and Malaysia."
   ]
  },
  {
   "cell_type": "code",
   "execution_count": 13,
   "metadata": {},
   "outputs": [],
   "source": [
    "query['REPORTER'] = 'IDN'\n",
    "query['PARTNER'] = 'SGP+MYS'"
   ]
  },
  {
   "cell_type": "markdown",
   "metadata": {},
   "source": [
    "## CL_TS_PRODUCTCODE_WITS\n",
    "`CL_TS_PRODUCTCODE_WITS` correspond to `PRODUCTCODE` dimension"
   ]
  },
  {
   "cell_type": "code",
   "execution_count": 14,
   "metadata": {},
   "outputs": [
    {
     "data": {
      "text/html": [
       "<div>\n",
       "<style scoped>\n",
       "    .dataframe tbody tr th:only-of-type {\n",
       "        vertical-align: middle;\n",
       "    }\n",
       "\n",
       "    .dataframe tbody tr th {\n",
       "        vertical-align: top;\n",
       "    }\n",
       "\n",
       "    .dataframe thead th {\n",
       "        text-align: right;\n",
       "    }\n",
       "</style>\n",
       "<table border=\"1\" class=\"dataframe\">\n",
       "  <thead>\n",
       "    <tr style=\"text-align: right;\">\n",
       "      <th></th>\n",
       "      <th>id</th>\n",
       "      <th>name</th>\n",
       "      <th>language</th>\n",
       "    </tr>\n",
       "  </thead>\n",
       "  <tbody>\n",
       "    <tr>\n",
       "      <th>0</th>\n",
       "      <td>999999</td>\n",
       "      <td>Not Applicable</td>\n",
       "      <td>en</td>\n",
       "    </tr>\n",
       "    <tr>\n",
       "      <th>1</th>\n",
       "      <td>01-05_Animal</td>\n",
       "      <td>Animal</td>\n",
       "      <td>en</td>\n",
       "    </tr>\n",
       "    <tr>\n",
       "      <th>2</th>\n",
       "      <td>06-15_Vegetable</td>\n",
       "      <td>Vegetable</td>\n",
       "      <td>en</td>\n",
       "    </tr>\n",
       "    <tr>\n",
       "      <th>3</th>\n",
       "      <td>16-24_FoodProd</td>\n",
       "      <td>Food Products</td>\n",
       "      <td>en</td>\n",
       "    </tr>\n",
       "    <tr>\n",
       "      <th>4</th>\n",
       "      <td>25-26_Minerals</td>\n",
       "      <td>Minerals</td>\n",
       "      <td>en</td>\n",
       "    </tr>\n",
       "  </tbody>\n",
       "</table>\n",
       "</div>"
      ],
      "text/plain": [
       "                id            name language\n",
       "0           999999  Not Applicable       en\n",
       "1     01-05_Animal          Animal       en\n",
       "2  06-15_Vegetable       Vegetable       en\n",
       "3   16-24_FoodProd   Food Products       en\n",
       "4   25-26_Minerals        Minerals       en"
      ]
     },
     "metadata": {},
     "output_type": "display_data"
    }
   ],
   "source": [
    "codelist = 'CL_TS_PRODUCTCODE_WITS'\n",
    "path = '/'.join([endpoint, 'codelist/WBG_WITS', codelist])\n",
    "\n",
    "response = requests.get(path)\n",
    "if response.status_code == 200:\n",
    "   response_dict = xmltodict.parse(response.text)['Structure']\n",
    "   codelists = response_dict['Structures']['Codelists']['Codelist']\n",
    "   codelist = getCodelist(codelists)['codes']\n",
    "display(codelist.head())"
   ]
  },
  {
   "cell_type": "markdown",
   "metadata": {},
   "source": [
    "We can see that **Minerals** product code corresponds to `25–26_Minerals`. Let's use that code:"
   ]
  },
  {
   "cell_type": "code",
   "execution_count": 31,
   "metadata": {},
   "outputs": [],
   "source": [
    "query['PRODUCTCODE'] ='25-26_Minerals'"
   ]
  },
  {
   "cell_type": "markdown",
   "metadata": {},
   "source": [
    "## CL_TS_INDICATOR_WITS\n",
    "Let's search Indicator codes those contains string \"Export\" for `INDICATOR` dimension:"
   ]
  },
  {
   "cell_type": "code",
   "execution_count": 32,
   "metadata": {},
   "outputs": [
    {
     "data": {
      "text/html": [
       "<div>\n",
       "<style scoped>\n",
       "    .dataframe tbody tr th:only-of-type {\n",
       "        vertical-align: middle;\n",
       "    }\n",
       "\n",
       "    .dataframe tbody tr th {\n",
       "        vertical-align: top;\n",
       "    }\n",
       "\n",
       "    .dataframe thead th {\n",
       "        text-align: right;\n",
       "    }\n",
       "</style>\n",
       "<table border=\"1\" class=\"dataframe\">\n",
       "  <thead>\n",
       "    <tr style=\"text-align: right;\">\n",
       "      <th></th>\n",
       "      <th>id</th>\n",
       "      <th>name</th>\n",
       "      <th>language</th>\n",
       "    </tr>\n",
       "  </thead>\n",
       "  <tbody>\n",
       "    <tr>\n",
       "      <th>33</th>\n",
       "      <td>NMBR-XPRT-HS6-PRDCT</td>\n",
       "      <td>Export No Of traded HS6 digit Products</td>\n",
       "      <td>en</td>\n",
       "    </tr>\n",
       "    <tr>\n",
       "      <th>36</th>\n",
       "      <td>XPRT-PRDCT-SHR</td>\n",
       "      <td>Export Product Share (%)</td>\n",
       "      <td>en</td>\n",
       "    </tr>\n",
       "    <tr>\n",
       "      <th>37</th>\n",
       "      <td>XPRT-PRTNR-SHR</td>\n",
       "      <td>Export Partner Share (%)</td>\n",
       "      <td>en</td>\n",
       "    </tr>\n",
       "    <tr>\n",
       "      <th>38</th>\n",
       "      <td>XPRT-SHR-TTL-PRDCT</td>\n",
       "      <td>Export Share in Total Products (%)</td>\n",
       "      <td>en</td>\n",
       "    </tr>\n",
       "    <tr>\n",
       "      <th>39</th>\n",
       "      <td>XPRT-TRD-VL</td>\n",
       "      <td>Export Trade Value (US$ Thousand)</td>\n",
       "      <td>en</td>\n",
       "    </tr>\n",
       "    <tr>\n",
       "      <th>56</th>\n",
       "      <td>BX-GSR-GNFS-CD</td>\n",
       "      <td>Exports of goods and services (BoP, current US$)</td>\n",
       "      <td>en</td>\n",
       "    </tr>\n",
       "    <tr>\n",
       "      <th>59</th>\n",
       "      <td>BX-GSR-TOTL-CD</td>\n",
       "      <td>Exports of goods, services and primary income ...</td>\n",
       "      <td>en</td>\n",
       "    </tr>\n",
       "    <tr>\n",
       "      <th>78</th>\n",
       "      <td>NE-EXP-GNFS-CD</td>\n",
       "      <td>Exports of goods and services (current US$)</td>\n",
       "      <td>en</td>\n",
       "    </tr>\n",
       "    <tr>\n",
       "      <th>79</th>\n",
       "      <td>NE-EXP-GNFS-KD</td>\n",
       "      <td>Exports of goods and services (constant 2005 US$)</td>\n",
       "      <td>en</td>\n",
       "    </tr>\n",
       "    <tr>\n",
       "      <th>80</th>\n",
       "      <td>NE-EXP-GNFS-KD-ZG</td>\n",
       "      <td>Exports of goods and services (annual % growth)</td>\n",
       "      <td>en</td>\n",
       "    </tr>\n",
       "    <tr>\n",
       "      <th>81</th>\n",
       "      <td>NE-EXP-GNFS-ZS</td>\n",
       "      <td>Exports of goods and services (% of GDP)</td>\n",
       "      <td>en</td>\n",
       "    </tr>\n",
       "    <tr>\n",
       "      <th>119</th>\n",
       "      <td>TX-QTY-MRCH-XD-WD</td>\n",
       "      <td>Export volume index (2000 = 100)</td>\n",
       "      <td>en</td>\n",
       "    </tr>\n",
       "    <tr>\n",
       "      <th>121</th>\n",
       "      <td>TX-VAL-MRCH-XD-WD</td>\n",
       "      <td>Export value index (2000 = 100)</td>\n",
       "      <td>en</td>\n",
       "    </tr>\n",
       "  </tbody>\n",
       "</table>\n",
       "</div>"
      ],
      "text/plain": [
       "                      id                                               name  \\\n",
       "33   NMBR-XPRT-HS6-PRDCT             Export No Of traded HS6 digit Products   \n",
       "36        XPRT-PRDCT-SHR                           Export Product Share (%)   \n",
       "37        XPRT-PRTNR-SHR                           Export Partner Share (%)   \n",
       "38    XPRT-SHR-TTL-PRDCT                 Export Share in Total Products (%)   \n",
       "39           XPRT-TRD-VL                  Export Trade Value (US$ Thousand)   \n",
       "56        BX-GSR-GNFS-CD   Exports of goods and services (BoP, current US$)   \n",
       "59        BX-GSR-TOTL-CD  Exports of goods, services and primary income ...   \n",
       "78        NE-EXP-GNFS-CD        Exports of goods and services (current US$)   \n",
       "79        NE-EXP-GNFS-KD  Exports of goods and services (constant 2005 US$)   \n",
       "80     NE-EXP-GNFS-KD-ZG    Exports of goods and services (annual % growth)   \n",
       "81        NE-EXP-GNFS-ZS           Exports of goods and services (% of GDP)   \n",
       "119    TX-QTY-MRCH-XD-WD                   Export volume index (2000 = 100)   \n",
       "121    TX-VAL-MRCH-XD-WD                    Export value index (2000 = 100)   \n",
       "\n",
       "    language  \n",
       "33        en  \n",
       "36        en  \n",
       "37        en  \n",
       "38        en  \n",
       "39        en  \n",
       "56        en  \n",
       "59        en  \n",
       "78        en  \n",
       "79        en  \n",
       "80        en  \n",
       "81        en  \n",
       "119       en  \n",
       "121       en  "
      ]
     },
     "metadata": {},
     "output_type": "display_data"
    }
   ],
   "source": [
    "codelist = 'CL_TS_INDICATOR_WITS'\n",
    "path = '/'.join([endpoint, 'codelist/WBG_WITS', codelist])\n",
    "response = requests.get(path)\n",
    "if response.status_code == 200:\n",
    "   response_dict = xmltodict.parse(response.text)['Structure']\n",
    "   codelists = response_dict['Structures']['Codelists']['Codelist']\n",
    "   codelist = getCodelist(codelists)['codes']\n",
    "\n",
    "display(codelist[codelist['name'].str.contains('Export')])"
   ]
  },
  {
   "cell_type": "markdown",
   "metadata": {},
   "source": [
    "We can see that `XPRT-TRD-VL` corresponds to **\"Export Trade Value (US$ Thousand)\"**."
   ]
  },
  {
   "cell_type": "code",
   "execution_count": 33,
   "metadata": {},
   "outputs": [],
   "source": [
    "query['INDICATOR'] = 'XPRT-TRD-VL'"
   ]
  },
  {
   "cell_type": "markdown",
   "metadata": {},
   "source": [
    "We now have all the keys for our query. Next we need to make them into one string delimited by dot."
   ]
  },
  {
   "cell_type": "code",
   "execution_count": 34,
   "metadata": {},
   "outputs": [
    {
     "data": {
      "text/plain": [
       "'A.IDN.SGP+MYS.25-26_Minerals.XPRT-TRD-VL'"
      ]
     },
     "execution_count": 34,
     "metadata": {},
     "output_type": "execute_result"
    }
   ],
   "source": [
    "query_string = '.'.join([value for value in query.values()])\n",
    "query_string"
   ]
  },
  {
   "cell_type": "markdown",
   "metadata": {},
   "source": [
    "Our query parameter will be look like this:\n",
    "![alt text](./img/key_series.png \"Structure of an SDMX API Query Parameter\")\n",
    "\n",
    "Which translated to:\n",
    "\n",
    "![alt text](./img/key_series_translated.png \"Structure of an SDMX API Query Parameter Tranlsation\")"
   ]
  },
  {
   "cell_type": "markdown",
   "metadata": {},
   "source": [
    "# Period Parameter\n",
    "After we get the query parameter the data dimension, next we need to define the period range of our data. The format of the period parameter will look like this:\n",
    "![alt text](./img/period_parameter_structure.png \"Period Parameter Structure\")\n",
    "\n",
    "Just change the `start_year` and `end_year` with what year to start and end respectively, for example:"
   ]
  },
  {
   "cell_type": "code",
   "execution_count": 35,
   "metadata": {},
   "outputs": [],
   "source": [
    "period_parameter = '?startperiod=2010&endperiod=2015'"
   ]
  },
  {
   "cell_type": "markdown",
   "metadata": {},
   "source": [
    "# Call the Data API\n",
    "We now have all the parameters needed, now we can make the API Call. In this case, we want to pull the mineral export trade of Indonesia's total export (Thousand USD) to Singapore and Malaysia countries from 2010 to 2015 for Mineral products by year."
   ]
  },
  {
   "cell_type": "code",
   "execution_count": 36,
   "metadata": {},
   "outputs": [
    {
     "name": "stdout",
     "output_type": "stream",
     "text": [
      "http://wits.worldbank.org/API/V1/SDMX/V21/rest/data/DF_WITS_TradeStats_Trade/A.IDN.SGP+MYS.25-26_Minerals.XPRT-TRD-VL/?startperiod=2010&endperiod=2015\n",
      "<Response [200]>\n"
     ]
    },
    {
     "data": {
      "text/html": [
       "<div>\n",
       "<style scoped>\n",
       "    .dataframe tbody tr th:only-of-type {\n",
       "        vertical-align: middle;\n",
       "    }\n",
       "\n",
       "    .dataframe tbody tr th {\n",
       "        vertical-align: top;\n",
       "    }\n",
       "\n",
       "    .dataframe thead th {\n",
       "        text-align: right;\n",
       "    }\n",
       "</style>\n",
       "<table border=\"1\" class=\"dataframe\">\n",
       "  <thead>\n",
       "    <tr style=\"text-align: right;\">\n",
       "      <th></th>\n",
       "      <th>FREQ</th>\n",
       "      <th>REPORTER</th>\n",
       "      <th>PARTNER</th>\n",
       "      <th>PRODUCTCODE</th>\n",
       "      <th>INDICATOR</th>\n",
       "      <th>TIME_PERIOD</th>\n",
       "      <th>DATASOURCE</th>\n",
       "      <th>OBS_VALUE</th>\n",
       "    </tr>\n",
       "  </thead>\n",
       "  <tbody>\n",
       "    <tr>\n",
       "      <th>0</th>\n",
       "      <td>A</td>\n",
       "      <td>IDN</td>\n",
       "      <td>MYS</td>\n",
       "      <td>25-26_Minerals</td>\n",
       "      <td>XPRT-TRD-VL</td>\n",
       "      <td>2010</td>\n",
       "      <td>WITS-CMT</td>\n",
       "      <td>18885.831</td>\n",
       "    </tr>\n",
       "    <tr>\n",
       "      <th>1</th>\n",
       "      <td>A</td>\n",
       "      <td>IDN</td>\n",
       "      <td>MYS</td>\n",
       "      <td>25-26_Minerals</td>\n",
       "      <td>XPRT-TRD-VL</td>\n",
       "      <td>2011</td>\n",
       "      <td>WITS-CMT</td>\n",
       "      <td>11226.897</td>\n",
       "    </tr>\n",
       "    <tr>\n",
       "      <th>2</th>\n",
       "      <td>A</td>\n",
       "      <td>IDN</td>\n",
       "      <td>MYS</td>\n",
       "      <td>25-26_Minerals</td>\n",
       "      <td>XPRT-TRD-VL</td>\n",
       "      <td>2012</td>\n",
       "      <td>WITS-CMT</td>\n",
       "      <td>2348.980</td>\n",
       "    </tr>\n",
       "    <tr>\n",
       "      <th>3</th>\n",
       "      <td>A</td>\n",
       "      <td>IDN</td>\n",
       "      <td>MYS</td>\n",
       "      <td>25-26_Minerals</td>\n",
       "      <td>XPRT-TRD-VL</td>\n",
       "      <td>2013</td>\n",
       "      <td>WITS-CMT</td>\n",
       "      <td>5428.528</td>\n",
       "    </tr>\n",
       "    <tr>\n",
       "      <th>4</th>\n",
       "      <td>A</td>\n",
       "      <td>IDN</td>\n",
       "      <td>MYS</td>\n",
       "      <td>25-26_Minerals</td>\n",
       "      <td>XPRT-TRD-VL</td>\n",
       "      <td>2014</td>\n",
       "      <td>WITS-CMT</td>\n",
       "      <td>968.519</td>\n",
       "    </tr>\n",
       "    <tr>\n",
       "      <th>5</th>\n",
       "      <td>A</td>\n",
       "      <td>IDN</td>\n",
       "      <td>MYS</td>\n",
       "      <td>25-26_Minerals</td>\n",
       "      <td>XPRT-TRD-VL</td>\n",
       "      <td>2015</td>\n",
       "      <td>WITS-CMT</td>\n",
       "      <td>6222.839</td>\n",
       "    </tr>\n",
       "    <tr>\n",
       "      <th>6</th>\n",
       "      <td>A</td>\n",
       "      <td>IDN</td>\n",
       "      <td>SGP</td>\n",
       "      <td>25-26_Minerals</td>\n",
       "      <td>XPRT-TRD-VL</td>\n",
       "      <td>2010</td>\n",
       "      <td>WITS-CMT</td>\n",
       "      <td>83954.462</td>\n",
       "    </tr>\n",
       "    <tr>\n",
       "      <th>7</th>\n",
       "      <td>A</td>\n",
       "      <td>IDN</td>\n",
       "      <td>SGP</td>\n",
       "      <td>25-26_Minerals</td>\n",
       "      <td>XPRT-TRD-VL</td>\n",
       "      <td>2011</td>\n",
       "      <td>WITS-CMT</td>\n",
       "      <td>46080.804</td>\n",
       "    </tr>\n",
       "    <tr>\n",
       "      <th>8</th>\n",
       "      <td>A</td>\n",
       "      <td>IDN</td>\n",
       "      <td>SGP</td>\n",
       "      <td>25-26_Minerals</td>\n",
       "      <td>XPRT-TRD-VL</td>\n",
       "      <td>2012</td>\n",
       "      <td>WITS-CMT</td>\n",
       "      <td>63513.413</td>\n",
       "    </tr>\n",
       "    <tr>\n",
       "      <th>9</th>\n",
       "      <td>A</td>\n",
       "      <td>IDN</td>\n",
       "      <td>SGP</td>\n",
       "      <td>25-26_Minerals</td>\n",
       "      <td>XPRT-TRD-VL</td>\n",
       "      <td>2013</td>\n",
       "      <td>WITS-CMT</td>\n",
       "      <td>91051.735</td>\n",
       "    </tr>\n",
       "    <tr>\n",
       "      <th>10</th>\n",
       "      <td>A</td>\n",
       "      <td>IDN</td>\n",
       "      <td>SGP</td>\n",
       "      <td>25-26_Minerals</td>\n",
       "      <td>XPRT-TRD-VL</td>\n",
       "      <td>2014</td>\n",
       "      <td>WITS-CMT</td>\n",
       "      <td>73719.119</td>\n",
       "    </tr>\n",
       "    <tr>\n",
       "      <th>11</th>\n",
       "      <td>A</td>\n",
       "      <td>IDN</td>\n",
       "      <td>SGP</td>\n",
       "      <td>25-26_Minerals</td>\n",
       "      <td>XPRT-TRD-VL</td>\n",
       "      <td>2015</td>\n",
       "      <td>WITS-CMT</td>\n",
       "      <td>65628.548</td>\n",
       "    </tr>\n",
       "  </tbody>\n",
       "</table>\n",
       "</div>"
      ],
      "text/plain": [
       "   FREQ REPORTER PARTNER     PRODUCTCODE    INDICATOR TIME_PERIOD DATASOURCE  \\\n",
       "0     A      IDN     MYS  25-26_Minerals  XPRT-TRD-VL        2010   WITS-CMT   \n",
       "1     A      IDN     MYS  25-26_Minerals  XPRT-TRD-VL        2011   WITS-CMT   \n",
       "2     A      IDN     MYS  25-26_Minerals  XPRT-TRD-VL        2012   WITS-CMT   \n",
       "3     A      IDN     MYS  25-26_Minerals  XPRT-TRD-VL        2013   WITS-CMT   \n",
       "4     A      IDN     MYS  25-26_Minerals  XPRT-TRD-VL        2014   WITS-CMT   \n",
       "5     A      IDN     MYS  25-26_Minerals  XPRT-TRD-VL        2015   WITS-CMT   \n",
       "6     A      IDN     SGP  25-26_Minerals  XPRT-TRD-VL        2010   WITS-CMT   \n",
       "7     A      IDN     SGP  25-26_Minerals  XPRT-TRD-VL        2011   WITS-CMT   \n",
       "8     A      IDN     SGP  25-26_Minerals  XPRT-TRD-VL        2012   WITS-CMT   \n",
       "9     A      IDN     SGP  25-26_Minerals  XPRT-TRD-VL        2013   WITS-CMT   \n",
       "10    A      IDN     SGP  25-26_Minerals  XPRT-TRD-VL        2014   WITS-CMT   \n",
       "11    A      IDN     SGP  25-26_Minerals  XPRT-TRD-VL        2015   WITS-CMT   \n",
       "\n",
       "    OBS_VALUE  \n",
       "0   18885.831  \n",
       "1   11226.897  \n",
       "2    2348.980  \n",
       "3    5428.528  \n",
       "4     968.519  \n",
       "5    6222.839  \n",
       "6   83954.462  \n",
       "7   46080.804  \n",
       "8   63513.413  \n",
       "9   91051.735  \n",
       "10  73719.119  \n",
       "11  65628.548  "
      ]
     },
     "metadata": {},
     "output_type": "display_data"
    }
   ],
   "source": [
    "path = '/'.join([endpoint, 'data', dataset_id, query_string, period_parameter])\n",
    "print(path)\n",
    "response = requests.get(path)\n",
    "print(response)\n",
    "if response.status_code == 200:\n",
    "   response_dict = xmltodict.parse(response.text)\n",
    "   response_series = response_dict['message:GenericData']['message:DataSet']['generic:Series']\n",
    "   series_list = [response_series] if type(response_series) == dict else response_series\n",
    "   for i, series in enumerate(series_list):\n",
    "       series_key = series['generic:SeriesKey']\n",
    "       series_key_values_raw = [series_key['generic:Value']] if type(series_key['generic:Value']) == dict else series_key['generic:Value']\n",
    "       series_key_values = {value['@id']:value['@value'] for value in series_key_values_raw}\n",
    "\n",
    "       series_obs = series['generic:Obs']\n",
    "       series_obs_raw = [series['generic:Obs']] if type(series['generic:Obs']) == dict else series['generic:Obs']\n",
    "       for j, obs in enumerate(series_obs_raw):\n",
    "           obs_dimensions_raw = [obs['generic:ObsDimension']] if type(obs['generic:ObsDimension']) == dict else obs['generic:ObsDimension'] \n",
    "           obs_dimensions = {value['@id']: value['@value'] for value in obs_dimensions_raw}\n",
    "\n",
    "           obs_attributes = obs['generic:Attributes']['generic:Value']\n",
    "           obs_attributes = [obs_attributes] if type(obs_attributes) == dict else obs_attributes\n",
    "           obs_attributes = {value['@id']: value['@value'] for value in obs_attributes}\n",
    "\n",
    "           obs_value = obs['generic:ObsValue']\n",
    "           obs_value = {'OBS_VALUE': float(obs_value['@value'])}\n",
    "          \n",
    "           observation = [{**series_key_values, **obs_dimensions, **obs_attributes, **obs_value}]\n",
    "           observations = observation if j == 0 else observations + observation\n",
    "       series_observations = observations if i == 0 else series_observations + observations\n",
    "\n",
    "   data = pd.DataFrame(series_observations)\n",
    "display(data)"
   ]
  },
  {
   "cell_type": "markdown",
   "metadata": {},
   "source": [
    "## Information about the data:\n",
    "* `FREQ` is the frequency of data.\n",
    "* `REPORTER` is the exporting country code. Reason why it use that term is because this trade data is coming from  country reports sent to the World Bank, hence called `REPORTER`.\n",
    "* `PARTNER` is the country code of trade counter-party.\n",
    "* `PRODUCTCODE` is the code of the product traded.\n",
    "* `INDICATOR` is the indicator of the value.\n",
    "* `TIME_PERIOD` is the period time of the value.\n",
    "* `DATASOURCE` is the additional information of where this value come from.\n",
    "* `OBS_VALUE` is the value of the data."
   ]
  },
  {
   "cell_type": "markdown",
   "metadata": {},
   "source": [
    "# Conclusion\n",
    "In conclusion, the ability to access and analyze trade data is of utmost importance for understanding global economic trends, making informed policy decisions, and driving business strategies.\n",
    "\n",
    "Through this article, we have explored how to effectively retrieve trade data from the World Bank's World Integrated Trade Solution (WITS) Statistical Data and Metadata eXchange (SDMX) API using Python. By harnessing the power of Python programming and the extensive data resources provided by the WB WITS SDMX API, we have unlocked the potential to extract valuable insights from trade data.\n",
    "\n",
    "The combination of the WB WITS SDMX API and Python provides a powerful toolkit for working with trade data and extracting actionable insights. By examining trade values, we can gain a deeper understanding of economic dynamics, identify growth opportunities, and inform evidence-based decision-making.\n",
    "\n",
    "So, let's embark on this data-driven journey and unlock the hidden potential of trade data using the powerful combination of the WB WITS SDMX API and Python. Happy exploring!\n",
    "\n",
    "## Reference\n",
    "* [Statistical Data and Metadata eXchange (SDMX)](https://sdmx.org/?page_id=5008)\n",
    "* [World Bank World Integrated Trade Solution (WB WITS) API User Guide](http://wits.worldbank.org/data/public/WITSAPI_UserGuide.pdf)"
   ]
  },
  {
   "cell_type": "code",
   "execution_count": null,
   "metadata": {},
   "outputs": [],
   "source": []
  }
 ],
 "metadata": {
  "kernelspec": {
   "display_name": "Python 3 (ipykernel)",
   "language": "python",
   "name": "python3"
  },
  "language_info": {
   "codemirror_mode": {
    "name": "ipython",
    "version": 3
   },
   "file_extension": ".py",
   "mimetype": "text/x-python",
   "name": "python",
   "nbconvert_exporter": "python",
   "pygments_lexer": "ipython3",
   "version": "3.11.4"
  }
 },
 "nbformat": 4,
 "nbformat_minor": 2
}
