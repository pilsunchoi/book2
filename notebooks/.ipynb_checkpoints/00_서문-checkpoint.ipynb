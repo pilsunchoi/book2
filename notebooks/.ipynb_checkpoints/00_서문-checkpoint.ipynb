{
 "cells": [
  {
   "cell_type": "markdown",
   "id": "84604b30",
   "metadata": {},
   "source": [
    "# 무역데이터분석: 시작하며"
   ]
  },
  {
   "cell_type": "markdown",
   "id": "b3b9c852",
   "metadata": {},
   "source": [
    "이 책은  \n",
    "\n",
    "<br>\n",
    "<br>\n",
    "<br>\n",
    "<br>\n",
    "<br>\n",
    "\n",
    "<center> 2025년 3월 </center>\n",
    "\n",
    "<center> 최필선  </center>"
   ]
  },
  {
   "cell_type": "code",
   "execution_count": null,
   "id": "6542dbe0",
   "metadata": {},
   "outputs": [],
   "source": []
  }
 ],
 "metadata": {
  "kernelspec": {
   "display_name": "Python 3 (ipykernel)",
   "language": "python",
   "name": "python3"
  },
  "language_info": {
   "codemirror_mode": {
    "name": "ipython",
    "version": 3
   },
   "file_extension": ".py",
   "mimetype": "text/x-python",
   "name": "python",
   "nbconvert_exporter": "python",
   "pygments_lexer": "ipython3",
   "version": "3.11.4"
  }
 },
 "nbformat": 4,
 "nbformat_minor": 5
}
