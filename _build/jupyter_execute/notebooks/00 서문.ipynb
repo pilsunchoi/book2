{
 "cells": [
  {
   "cell_type": "markdown",
   "id": "84604b30",
   "metadata": {},
   "source": [
    "# 시작하며"
   ]
  },
  {
   "cell_type": "markdown",
   "id": "b3b9c852",
   "metadata": {},
   "source": [
    "무역은 세계 경제를 연결하는 핵심 동력이며 그 과정에서 생성되는 방대한 데이터는 경제의 흐름과 변화를 이해하는 데 중요한 자원이 됩니다. 그러나 이러한 데이터를 수집, 정리, 집계, 분석하는 작업은 종종 방대하고 복잡하여 초심자들에게는 진입 장벽이 높은 분야로 여겨집니다. 이 책 《**파이썬을 활용한 무역데이터 분석**》은 바로 이 점을 해결하고자 기획됐습니다.\n",
    "\n",
    "이 책은 국제무역 빅데이터를 다루는 실무자와 연구자들이 데이터를 효과적으로 관리하고 분석할 수 있도록 파이썬을 사용한 구체적인 사례와 실용적인 가이드를 제공합니다. 책은 크게 《데이터 분석》과 《데이터 관리》의 2개 부분으로 구성돼 있습니다. \n",
    "\n",
    "《**데이터 분석**》에서는 주어진 국제무역 데이터를 분석하는 과정을 살펴봅니다. 글로벌 교역 패턴을 이해하고, 정책 변화가 무역에 미치는 영향을 체계적으로 평가하는 기법들을 소개합니다. 이 부분의 많은 자료는 UNCTAD(2012)의 《[*A Practical Guide to Trade Policy Analysis*](https://unctad.org/topic/trade-analysis/trade-policy-analysis)》를 참고했음을 밝힙니다. UNCTAD(2012)는 통계 패키지 Stata를 이용한 데 반해 이 책에서는 주피터 노트북 환경에서 파이썬을 사용합니다.\n",
    "\n",
    "《**데이터 관리**》의 주요 목차를 소개하면, 유엔, 세계무역기구, 세계은행 등의 글로벌 무역 데이터를 API(Application Programming Interface)를 통해 자동으로 가져오는 방법과 데이터 정리 과정을 소개합니다. 마찬가지로 관세청 데이터를 API를 통해 수집하는 절차를 다룹니다. 또한 세계 각국의 관세 데이터를 집계하고 이를 분석에 활용할 수 있도록 준비하는 방법을 소개합니다. \n",
    "\n",
    "이 책은 프로그래밍 초보자도 따라 할 수 있도록 상세한 설명과 예제를 포함하고 있으며, 무역 데이터 분석에 익숙하지 않은 독자들도 이해할 수 있도록 데이터를 다루는 과정과 개념을 체계적으로 풀어냈습니다. 뿐만 아니라 이 책에서 소개한 데이터 관리 기법은 다른 사회과학이나 보건의료 분야에도 적용될 수 있습니다. 저자들의 또다른 책 《[**데이터과학의 첫걸음: 빅데이터 분석 with Python**](https://pilsunchoi.github.io/book1/notebooks/00_서문.html)》을 함께 활용하면 더 효율적인 학습이 가능할 것입니다. 이 책에서 사용한 데이터세트는 [https://github.com/pilsunchoi/book2/tree/main/Data](https://github.com/pilsunchoi/book2/tree/main/Data)에서 다운로드 받을 수 있습니다.\n",
    "\n",
    "이 책이 데이터 분석과 관리 분야에서 독자 여러분께 실질적인 도움과 통찰을 제공하는 데 기여하길 진심으로 바랍니다.\n",
    "\n",
    "<br>\n",
    "\n",
    "<center> 2025년 3월 </center>\n",
    "\n",
    "<center> 최필선 ⋅ 민인식  </center>"
   ]
  }
 ],
 "metadata": {
  "kernelspec": {
   "display_name": "Python 3 (ipykernel)",
   "language": "python",
   "name": "python3"
  },
  "language_info": {
   "codemirror_mode": {
    "name": "ipython",
    "version": 3
   },
   "file_extension": ".py",
   "mimetype": "text/x-python",
   "name": "python",
   "nbconvert_exporter": "python",
   "pygments_lexer": "ipython3",
   "version": "3.11.4"
  }
 },
 "nbformat": 4,
 "nbformat_minor": 5
}